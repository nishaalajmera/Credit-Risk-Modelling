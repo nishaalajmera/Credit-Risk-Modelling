{
 "cells": [
  {
   "cell_type": "markdown",
   "metadata": {},
   "source": [
    "# Predicting probability of default "
   ]
  },
  {
   "cell_type": "code",
   "execution_count": 1,
   "metadata": {},
   "outputs": [],
   "source": [
    "# Libraries \n",
    "import pandas as pd\n",
    "import numpy as np\n",
    "import matplotlib.pyplot as plt\n",
    "from sklearn.linear_model import LogisticRegression\n",
    "from sklearn.model_selection import train_test_split\n",
    "from sklearn.metrics import classification_report, precision_recall_fscore_support, confusion_matrix, roc_curve, roc_auc_score\n"
   ]
  },
  {
   "cell_type": "markdown",
   "metadata": {},
   "source": [
    "## Load cleaned data"
   ]
  },
  {
   "cell_type": "code",
   "execution_count": 2,
   "metadata": {},
   "outputs": [],
   "source": [
    "# Load cleaned dataset\n",
    "cleaned_loan_data = pd.read_csv('./data/clean_loan_data.csv')\n",
    "\n",
    "if 'Unnamed: 0' in cleaned_loan_data.columns:\n",
    "    cleaned_loan_data.drop(columns='Unnamed: 0',inplace= True)\n",
    "else:\n",
    "    pass\n"
   ]
  },
  {
   "cell_type": "code",
   "execution_count": 3,
   "metadata": {},
   "outputs": [],
   "source": [
    "# Create the X and y data sets\n",
    "X = cleaned_loan_data.drop(columns= 'loan_status').copy()\n",
    "y = cleaned_loan_data[['loan_status']]\n",
    "\n",
    "# Use test_train_split to create the training and test sets\n",
    "X_train, X_test, y_train, y_test = train_test_split(X, y, test_size=.4, random_state=123)"
   ]
  },
  {
   "cell_type": "code",
   "execution_count": 4,
   "metadata": {},
   "outputs": [],
   "source": [
    "def preprocess_data(df):\n",
    "\n",
    "    \"\"\" One hot encode non-numerical columns \"\"\"\n",
    "\n",
    "    # Create two data sets for numeric and non-numeric data\n",
    "    num_df = df.select_dtypes(exclude=['object'])\n",
    "    str_df = df.select_dtypes(include=['object'])\n",
    "\n",
    "    # One-hot encode the non-numeric columns\n",
    "    str_onehot = pd.get_dummies(str_df)\n",
    "\n",
    "    prepared_df = pd.concat([num_df, str_onehot], axis=1)\n",
    "\n",
    "    return prepared_df\n"
   ]
  },
  {
   "cell_type": "code",
   "execution_count": 5,
   "metadata": {},
   "outputs": [],
   "source": [
    "# Preprocess train and test data\n",
    "X_train = preprocess_data(X_train)\n",
    "X_test = preprocess_data(X_test)"
   ]
  },
  {
   "cell_type": "code",
   "execution_count": 6,
   "metadata": {},
   "outputs": [
    {
     "name": "stdout",
     "output_type": "stream",
     "text": [
      "['person_age', 'person_income', 'person_emp_length', 'loan_amnt', 'loan_int_rate', 'loan_percent_income', 'cb_person_cred_hist_length', 'person_home_ownership_MORTGAGE', 'person_home_ownership_OTHER', 'person_home_ownership_OWN', 'person_home_ownership_RENT', 'loan_intent_DEBTCONSOLIDATION', 'loan_intent_EDUCATION', 'loan_intent_HOMEIMPROVEMENT', 'loan_intent_MEDICAL', 'loan_intent_PERSONAL', 'loan_intent_VENTURE', 'loan_grade_A', 'loan_grade_B', 'loan_grade_C', 'loan_grade_D', 'loan_grade_E', 'loan_grade_F', 'loan_grade_G', 'cb_person_default_on_file_N', 'cb_person_default_on_file_Y']\n"
     ]
    }
   ],
   "source": [
    "print(list(X_train.columns))"
   ]
  },
  {
   "cell_type": "markdown",
   "metadata": {},
   "source": [
    "# Multivariate Logistic Regression (with different thresholds)"
   ]
  },
  {
   "cell_type": "code",
   "execution_count": 7,
   "metadata": {},
   "outputs": [],
   "source": [
    "# Train the logistic regression model on the training data\n",
    "clf_lr = LogisticRegression(solver='lbfgs').fit(X_train, np.ravel(y_train))\n",
    "\n",
    "# Create predictions of probability for loan status using test data\n",
    "preds_lr = clf_lr.predict_proba(X_test)\n",
    "\n",
    "# Create dataframes \n",
    "preds_df_lr = pd.DataFrame(preds_lr[:,1], columns = ['prob_default'])\n",
    "\n",
    "# Reassign loan status based on 0.5 threshold\n",
    "preds_df_lr['loan_status_t1'] = preds_df_lr['prob_default'].apply(lambda x: 1 if x > 0.5 else 0)\n",
    "\n",
    "# Reassign the values of loan status based on 0.4 threshold\n",
    "preds_df_lr['loan_status_t2'] = preds_df_lr['prob_default'].apply(lambda x: 1 if x > 0.4 else 0)\n"
   ]
  },
  {
   "cell_type": "code",
   "execution_count": 8,
   "metadata": {},
   "outputs": [
    {
     "name": "stdout",
     "output_type": "stream",
     "text": [
      "Logistic regression with 0.5 threshold:\n",
      "               precision    recall  f1-score   support\n",
      "\n",
      " Non-Default       0.81      0.98      0.89      9194\n",
      "     Default       0.73      0.16      0.26      2592\n",
      "\n",
      "    accuracy                           0.80     11786\n",
      "   macro avg       0.77      0.57      0.57     11786\n",
      "weighted avg       0.79      0.80      0.75     11786\n",
      "\n",
      "Logistic regression with 0.4 threshold:\n",
      "               precision    recall  f1-score   support\n",
      "\n",
      " Non-Default       0.86      0.92      0.89      9194\n",
      "     Default       0.62      0.45      0.52      2592\n",
      "\n",
      "    accuracy                           0.82     11786\n",
      "   macro avg       0.74      0.69      0.71     11786\n",
      "weighted avg       0.80      0.82      0.81     11786\n",
      "\n"
     ]
    }
   ],
   "source": [
    "\n",
    "# Evaluate recall\n",
    "# Print the classification report \n",
    "target_names = ['Non-Default', 'Default']\n",
    "print('Logistic regression with 0.5 threshold:\\n',\n",
    "      classification_report(y_test, preds_df_lr['loan_status_t1'], target_names=target_names))\n",
    "\n",
    "\n",
    "# Print the classification report\n",
    "target_names = ['Non-Default', 'Default']\n",
    "print('Logistic regression with 0.4 threshold:\\n',\n",
    "      classification_report(y_test, preds_df_lr['loan_status_t2'], target_names=target_names))"
   ]
  },
  {
   "cell_type": "markdown",
   "metadata": {},
   "source": [
    "The Logistic Regression model with 0.4 threshold has a higher default recall than 0.5 model. The accuracy of the model with 0.4 threshold is higher. "
   ]
  },
  {
   "cell_type": "markdown",
   "metadata": {},
   "source": [
    "## XGBoost"
   ]
  },
  {
   "cell_type": "code",
   "execution_count": 10,
   "metadata": {},
   "outputs": [
    {
     "name": "stderr",
     "output_type": "stream",
     "text": [
      "/opt/miniconda3/envs/nishaal-dd/lib/python3.10/site-packages/xgboost/compat.py:36: FutureWarning: pandas.Int64Index is deprecated and will be removed from pandas in a future version. Use pandas.Index with the appropriate dtype instead.\n",
      "  from pandas import MultiIndex, Int64Index\n"
     ]
    }
   ],
   "source": [
    "from pandas import MultiIndex, Int16Dtype\n",
    "import xgboost as xgb"
   ]
  },
  {
   "cell_type": "code",
   "execution_count": 11,
   "metadata": {},
   "outputs": [
    {
     "name": "stderr",
     "output_type": "stream",
     "text": [
      "/opt/miniconda3/envs/nishaal-dd/lib/python3.10/site-packages/xgboost/data.py:250: FutureWarning: pandas.Int64Index is deprecated and will be removed from pandas in a future version. Use pandas.Index with the appropriate dtype instead.\n",
      "  elif isinstance(data.columns, (pd.Int64Index, pd.RangeIndex)):\n"
     ]
    }
   ],
   "source": [
    "# Train a model\n",
    "\n",
    "clf_gbt = xgb.XGBClassifier(objective='binary:logistic', use_label_encoder= False,eval_metric = 'auc').fit(X_train, np.ravel(y_train))\n",
    "\n",
    "# Predict the labels for loan status\n",
    "gbt_preds = clf_gbt.predict(X_test)"
   ]
  },
  {
   "cell_type": "code",
   "execution_count": 12,
   "metadata": {},
   "outputs": [
    {
     "name": "stdout",
     "output_type": "stream",
     "text": [
      "XGBoost baseline:\n",
      "               precision    recall  f1-score   support\n",
      "\n",
      " Non-Default       0.93      0.99      0.96      9194\n",
      "     Default       0.96      0.74      0.84      2592\n",
      "\n",
      "    accuracy                           0.94     11786\n",
      "   macro avg       0.94      0.87      0.90     11786\n",
      "weighted avg       0.94      0.94      0.93     11786\n",
      "\n"
     ]
    }
   ],
   "source": [
    "# Print the classification report\n",
    "target_names = ['Non-Default', 'Default']\n",
    "print('XGBoost baseline:\\n',\n",
    "      classification_report(y_test, gbt_preds, target_names=target_names))"
   ]
  },
  {
   "cell_type": "markdown",
   "metadata": {},
   "source": [
    "## XGBoost with 0.4 threshold"
   ]
  },
  {
   "cell_type": "code",
   "execution_count": 42,
   "metadata": {},
   "outputs": [],
   "source": [
    "# Get predicted probabilities for XGBoost Classifier\n",
    "gbt_proba = clf_gbt.predict_proba(X_test)\n",
    "\n",
    "# Create dataframe to store probabilities\n",
    "gbt_preds_t2 = pd.DataFrame(gbt_proba[:,1], columns = ['prob_default'])\n",
    "\n",
    "# Reassign loan status based on 0.4 threshold\n",
    "gbt_preds_t2['loan_status'] = gbt_preds_t2['prob_default'].apply(lambda x: 1 if x > 0.4 else 0)"
   ]
  },
  {
   "cell_type": "code",
   "execution_count": 43,
   "metadata": {},
   "outputs": [
    {
     "name": "stdout",
     "output_type": "stream",
     "text": [
      "XGBoost with 0.4 threshold:\n",
      "               precision    recall  f1-score   support\n",
      "\n",
      " Non-Default       0.94      0.98      0.96      9194\n",
      "     Default       0.92      0.76      0.83      2592\n",
      "\n",
      "    accuracy                           0.93     11786\n",
      "   macro avg       0.93      0.87      0.90     11786\n",
      "weighted avg       0.93      0.93      0.93     11786\n",
      "\n"
     ]
    }
   ],
   "source": [
    "# Print the classification report\n",
    "target_names = ['Non-Default', 'Default']\n",
    "print('XGBoost with 0.4 threshold:\\n',\n",
    "      classification_report(y_test, gbt_preds_t2['loan_status'], target_names=target_names))"
   ]
  },
  {
   "cell_type": "markdown",
   "metadata": {},
   "source": [
    "### Analyse Feature importance "
   ]
  },
  {
   "cell_type": "code",
   "execution_count": 13,
   "metadata": {},
   "outputs": [
    {
     "name": "stdout",
     "output_type": "stream",
     "text": [
      "                           feature  importance\n",
      "1                    person_income       787.0\n",
      "4                    loan_int_rate       516.0\n",
      "3                        loan_amnt       344.0\n",
      "0                       person_age       286.0\n",
      "2                person_emp_length       279.0\n",
      "5              loan_percent_income       263.0\n",
      "6       cb_person_cred_hist_length       159.0\n",
      "14             loan_intent_MEDICAL        90.0\n",
      "11   loan_intent_DEBTCONSOLIDATION        64.0\n",
      "10      person_home_ownership_RENT        61.0\n",
      "7   person_home_ownership_MORTGAGE        54.0\n",
      "19                    loan_grade_C        51.0\n",
      "15            loan_intent_PERSONAL        49.0\n",
      "20                    loan_grade_D        47.0\n",
      "9        person_home_ownership_OWN        42.0\n",
      "16             loan_intent_VENTURE        38.0\n",
      "12           loan_intent_EDUCATION        37.0\n",
      "13     loan_intent_HOMEIMPROVEMENT        34.0\n",
      "21                    loan_grade_E        28.0\n",
      "24     cb_person_default_on_file_N        28.0\n",
      "18                    loan_grade_B        26.0\n",
      "23                    loan_grade_G        11.0\n",
      "17                    loan_grade_A         6.0\n",
      "22                    loan_grade_F         5.0\n",
      "8      person_home_ownership_OTHER         3.0\n"
     ]
    }
   ],
   "source": [
    "# Print the feature importances from the model\n",
    "print(pd.DataFrame(clf_gbt.get_booster().get_score(importance_type = 'weight').items(), columns = ['feature','importance']).sort_values(by = ['importance'],ascending = False))"
   ]
  },
  {
   "cell_type": "markdown",
   "metadata": {},
   "source": [
    "## Select XGB model with different features "
   ]
  },
  {
   "cell_type": "code",
   "execution_count": 14,
   "metadata": {},
   "outputs": [],
   "source": [
    "# Use test_train_split to create the training and test sets\n",
    "X2 = cleaned_loan_data[['loan_int_rate','person_emp_length']]\n",
    "X3 = cleaned_loan_data[['person_income','loan_int_rate','loan_percent_income']]\n",
    "\n",
    "X2_train, X2_test = train_test_split(X2, test_size = .4, random_state = 123)\n",
    "X3_train, X3_test = train_test_split(X3, test_size = .4, random_state = 123)\n"
   ]
  },
  {
   "cell_type": "code",
   "execution_count": 15,
   "metadata": {},
   "outputs": [
    {
     "name": "stderr",
     "output_type": "stream",
     "text": [
      "/opt/miniconda3/envs/nishaal-dd/lib/python3.10/site-packages/xgboost/data.py:250: FutureWarning: pandas.Int64Index is deprecated and will be removed from pandas in a future version. Use pandas.Index with the appropriate dtype instead.\n",
      "  elif isinstance(data.columns, (pd.Int64Index, pd.RangeIndex)):\n"
     ]
    }
   ],
   "source": [
    "# Train a model on the X data with 2 columns\n",
    "clf_gbt2 = xgb.XGBClassifier(objective='binary:logistic', use_label_encoder= False,eval_metric = 'auc').fit(X2_train, np.ravel(y_train))\n",
    "clf_gbt3 = xgb.XGBClassifier(objective='binary:logistic', use_label_encoder= False,eval_metric = 'auc').fit(X3_train, np.ravel(y_train))\n",
    "\n",
    "# Predict the loan_status using each model\n",
    "gbt2_preds = clf_gbt2.predict(X2_test)\n",
    "gbt3_preds = clf_gbt3.predict(X3_test)"
   ]
  },
  {
   "cell_type": "code",
   "execution_count": 16,
   "metadata": {},
   "outputs": [
    {
     "name": "stdout",
     "output_type": "stream",
     "text": [
      "XGBoost with 2 features:\n",
      "               precision    recall  f1-score   support\n",
      "\n",
      " Non-Default       0.83      0.97      0.89      9194\n",
      "     Default       0.71      0.28      0.40      2592\n",
      "\n",
      "    accuracy                           0.82     11786\n",
      "   macro avg       0.77      0.63      0.65     11786\n",
      "weighted avg       0.80      0.82      0.78     11786\n",
      "\n",
      "XGBoost with 3 features:\n",
      "               precision    recall  f1-score   support\n",
      "\n",
      " Non-Default       0.90      0.94      0.92      9194\n",
      "     Default       0.76      0.63      0.69      2592\n",
      "\n",
      "    accuracy                           0.88     11786\n",
      "   macro avg       0.83      0.79      0.81     11786\n",
      "weighted avg       0.87      0.88      0.87     11786\n",
      "\n"
     ]
    }
   ],
   "source": [
    "# Print the classification report\n",
    "target_names = ['Non-Default', 'Default']\n",
    "print('XGBoost with 2 features:\\n',\n",
    "      classification_report(y_test, gbt2_preds, target_names=target_names))\n",
    "\n",
    "# Print the classification report\n",
    "target_names = ['Non-Default', 'Default']\n",
    "print('XGBoost with 3 features:\\n',\n",
    "      classification_report(y_test, gbt3_preds, target_names=target_names))"
   ]
  },
  {
   "cell_type": "code",
   "execution_count": 17,
   "metadata": {},
   "outputs": [
    {
     "data": {
      "image/png": "[encoded data removed]",
      "text/plain": [
       "<Figure size 432x288 with 1 Axes>"
      ]
     },
     "metadata": {
      "needs_background": "light"
     },
     "output_type": "display_data"
    },
    {
     "data": {
      "image/png": "[encoded data removed]",
      "text/plain": [
       "<Figure size 432x288 with 1 Axes>"
      ]
     },
     "metadata": {
      "needs_background": "light"
     },
     "output_type": "display_data"
    }
   ],
   "source": [
    "\n",
    "# Plot the column importance for this model\n",
    "xgb.plot_importance(clf_gbt2, importance_type = 'weight')\n",
    "xgb.plot_importance(clf_gbt3, importance_type = 'weight')\n",
    "plt.show()"
   ]
  },
  {
   "cell_type": "code",
   "execution_count": 18,
   "metadata": {},
   "outputs": [],
   "source": [
    "# Undersampling\n",
    "# Concat the training sets\n",
    "X_y_train = pd.concat([X_train.reset_index(drop=True),\n",
    "                       y_train.reset_index(drop=True)],axis =1 )\n",
    "# Get the counts of defaults and non_defaults\n",
    "count_nondefault, count_default = X_y_train['loan_status'].value_counts()\n",
    "\n",
    "# Separate nondefaults and defaults\n",
    "nondefaults = X_y_train[X_y_train['loan_status'] == 0]\n",
    "defaults  = X_y_train[X_y_train['loan_status'] == 1]\n",
    "\n",
    "# Undersample the non-defaults \n",
    "nondefaults_under = nondefaults.sample(count_default)\n",
    "\n",
    "# Concat the undersample non-defaults witht the defaults\n",
    "X_y_train_under = pd.concat([nondefaults_under.reset_index(drop=True), \n",
    "                            defaults.reset_index(drop = True)], axis = 0)\n",
    "\n",
    "X_train_under = X_y_train_under.drop(columns= 'loan_status').copy()\n",
    "y_train_under =  X_y_train_under[['loan_status']]\n"
   ]
  },
  {
   "cell_type": "code",
   "execution_count": 19,
   "metadata": {},
   "outputs": [
    {
     "name": "stderr",
     "output_type": "stream",
     "text": [
      "/opt/miniconda3/envs/nishaal-dd/lib/python3.10/site-packages/xgboost/data.py:250: FutureWarning: pandas.Int64Index is deprecated and will be removed from pandas in a future version. Use pandas.Index with the appropriate dtype instead.\n",
      "  elif isinstance(data.columns, (pd.Int64Index, pd.RangeIndex)):\n"
     ]
    },
    {
     "name": "stdout",
     "output_type": "stream",
     "text": [
      "XGBoost on Undersampled data:\n",
      "               precision    recall  f1-score   support\n",
      "\n",
      " Non-Default       0.95      0.92      0.93      9194\n",
      "     Default       0.74      0.82      0.78      2592\n",
      "\n",
      "    accuracy                           0.90     11786\n",
      "   macro avg       0.84      0.87      0.86     11786\n",
      "weighted avg       0.90      0.90      0.90     11786\n",
      "\n"
     ]
    }
   ],
   "source": [
    "clf_gbt_undersamp = xgb.XGBClassifier(objective='binary:logistic', use_label_encoder= False,eval_metric = 'auc').fit(X_train_under, np.ravel(y_train_under))\n",
    "\n",
    "gbt_undersamp_preds = clf_gbt_undersamp.predict(X_test)\n",
    "\n",
    "# Print the classification report\n",
    "target_names = ['Non-Default', 'Default']\n",
    "print('XGBoost on Undersampled data:\\n',\n",
    "      classification_report(y_test, gbt_undersamp_preds, target_names=target_names))"
   ]
  },
  {
   "cell_type": "code",
   "execution_count": 44,
   "metadata": {},
   "outputs": [
    {
     "name": "stdout",
     "output_type": "stream",
     "text": [
      "Logistic Regression baseline: 0.5735926185367446\n",
      "Logistic Regression with 0.4 threshold: 0.7051224860306248\n",
      "XGBoost baseline: 0.8978174103815542\n",
      "XGBoost with 0.4 threshold: 0.8963682684237266\n",
      "XGBoost with 2 features: 0.6480884827551633\n",
      "XGBoost with 3 features: 0.8071059120545476\n",
      "XGBoost undersampled: 0.8551550297885498\n"
     ]
    }
   ],
   "source": [
    "\n",
    "# Print the default F-1 scores for the logistic regression\n",
    "model_preds= {'Logistic Regression baseline': preds_df_lr['loan_status_t1'],\n",
    "              'Logistic Regression with 0.4 threshold' : preds_df_lr['loan_status_t2'],\n",
    "              'XGBoost baseline': gbt_preds,\n",
    "              'XGBoost with 0.4 threshold' : gbt_preds_t2['loan_status'],\n",
    "              'XGBoost with 2 features' : gbt2_preds,\n",
    "              'XGBoost with 3 features' : gbt3_preds,\n",
    "              'XGBoost undersampled' : gbt_undersamp_preds}\n",
    "\n",
    "for model_name,y_preds in model_preds.items():\n",
    "    print(model_name + ':',precision_recall_fscore_support(y_test,y_preds, average = 'macro')[2])\n"
   ]
  },
  {
   "cell_type": "code",
   "execution_count": 54,
   "metadata": {},
   "outputs": [
    {
     "data": {
      "image/png": "[encoded data removed]",
      "text/plain": [
       "<Figure size 432x288 with 1 Axes>"
      ]
     },
     "metadata": {
      "needs_background": "light"
     },
     "output_type": "display_data"
    }
   ],
   "source": [
    "# ROC chart components\n",
    "fallout_lr, sensitivity_lr, thresholds_lr = roc_curve(y_test, preds_df_lr['loan_status_t2'])\n",
    "fallout_gbt, sensitivity_gbt, thresholds_gbt = roc_curve(y_test, gbt_preds_t2['loan_status'])\n",
    "\n",
    "# ROC Chart with both\n",
    "plt.plot(fallout_lr, sensitivity_lr, color = 'green', label='%s' % 'Logistic Regression')\n",
    "plt.plot(fallout_gbt, sensitivity_gbt, color = 'black', label='%s' % 'XGBoost')\n",
    "plt.plot([0, 1], [0, 1], linestyle='--', label='%s' % 'Random Prediction')\n",
    "plt.title(\"ROC Chart\")\n",
    "plt.xlabel('Fall-out')\n",
    "plt.ylabel('Sensitivity')\n",
    "plt.legend()\n",
    "plt.show()"
   ]
  }
 ],
 "metadata": {
  "kernelspec": {
   "display_name": "Python 3.10.4 ('nishaal-dd')",
   "language": "python",
   "name": "python3"
  },
  "language_info": {
   "codemirror_mode": {
    "name": "ipython",
    "version": 3
   },
   "file_extension": ".py",
   "mimetype": "text/x-python",
   "name": "python",
   "nbconvert_exporter": "python",
   "pygments_lexer": "ipython3",
   "version": "3.10.4"
  },
  "orig_nbformat": 4,
  "vscode": {
   "interpreter": {
    "hash": "18e73ce427db6f6ebcdcf09fc72c577948214d9aad9c7bd9b882814abd49628e"
   }
  }
 },
 "nbformat": 4,
 "nbformat_minor": 2
}
